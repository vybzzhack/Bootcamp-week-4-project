{
 "cells": [
  {
   "cell_type": "markdown",
   "id": "67c97164-4088-4729-851f-43c7ce3ec026",
   "metadata": {},
   "source": [
    "## Python program to check whether a string is a palindrome or not using a stack."
   ]
  },
  {
   "cell_type": "code",
   "execution_count": 3,
   "id": "eb03ac6b-4232-4923-a786-917a5680ad85",
   "metadata": {},
   "outputs": [
    {
     "name": "stdin",
     "output_type": "stream",
     "text": [
      "Enter a string to check if it is a palindrome:  hello\n"
     ]
    },
    {
     "name": "stdout",
     "output_type": "stream",
     "text": [
      "\"hello\" is not a palindrome.\n"
     ]
    }
   ],
   "source": [
    "class Stack:\n",
    "    def __init__(self):\n",
    "        self.stack = []\n",
    "\n",
    "    def push(self, item):\n",
    "        self.stack.append(item)\n",
    "\n",
    "    def pop(self):\n",
    "        if not self.is_empty():\n",
    "            return self.stack.pop()\n",
    "        return None\n",
    "\n",
    "    def is_empty(self):\n",
    "        return len(self.stack) == 0\n",
    "\n",
    "def is_palindrome(input_string):\n",
    "    # Normalize the string: remove spaces and convert to lowercase\n",
    "    normalized_string = input_string.replace(\" \", \"\").lower()\n",
    "\n",
    "    stack = Stack()\n",
    "\n",
    "    # Push all characters to the stack\n",
    "    for char in normalized_string:\n",
    "        stack.push(char)\n",
    "\n",
    "    # Pop characters from the stack to build the reversed string\n",
    "    reversed_string = \"\"\n",
    "    while not stack.is_empty():\n",
    "        reversed_string += stack.pop()\n",
    "\n",
    "    # Compare the original normalized string with the reversed string\n",
    "    return normalized_string == reversed_string\n",
    "\n",
    "\n",
    "user_input = input(\"Enter a string to check if it is a palindrome: \")\n",
    "\n",
    "# Check if the input string is a palindrome\n",
    "if is_palindrome(user_input):\n",
    "    print(f'\"{user_input}\" is a palindrome.')\n",
    "else:\n",
    "    print(f'\"{user_input}\" is not a palindrome.')\n"
   ]
  },
  {
   "cell_type": "markdown",
   "id": "d820a207-d4ef-4051-bdd0-232014fc27f1",
   "metadata": {},
   "source": [
    "# List comprehension in Python\n",
    "List comprehension in Python offers a concise way to create a new list based on the values of an existing list.\n",
    "Suppose we have a list of numbers and we desire to create a new list containing the double value of each element in the list.\n",
    "\n",
    "-Check example 1\n",
    "\n",
    "Syntax:\n",
    "'''expression for item in list if condition == True'''\n",
    "The if statement in list comprehension is optional because list comprehensions can utilize conditional \n",
    "statements like if…else to filter existing lists.\n",
    "\n",
    "-Check example 2\n",
    "\n",
    "We can also use list comprehension with iterables like strings.\n",
    "\n",
    "-Check example 3\n",
    "\n",
    "List comprehension makes the code cleaner and more concise than for loop."
   ]
  },
  {
   "cell_type": "code",
   "execution_count": 4,
   "id": "382e7215-b746-4f97-aed4-7b65b355189c",
   "metadata": {},
   "outputs": [
    {
     "name": "stdout",
     "output_type": "stream",
     "text": [
      "[2, 4, 6, 8]\n",
      "[2, 4, 6, 8]\n",
      "['o']\n"
     ]
    }
   ],
   "source": [
    "#Example 1\n",
    "\n",
    "numbers = [1, 2, 3, 4]\n",
    "# list comprehension to create new list\n",
    "doubled_numbers= [num * 2 for num in numbers]\n",
    "print(doubled_numbers)\n",
    "\n",
    "#Output: [2, 4, 6, 8]\n",
    "\n",
    "\n",
    "#Example 2\n",
    "\n",
    "# filtering even numbers from a list\n",
    "even_numbers = [num for num in range(1, 10) if num % 2 == 0 ]\n",
    "print(even_numbers)\n",
    "\n",
    "#Output: [2, 4, 6, 8]\n",
    "\n",
    "\n",
    "#Example 3\n",
    "\n",
    "word = \"Python\"\n",
    "vowels = \"aeiou\"\n",
    "# find vowel in the string \"Python\"\n",
    "result = [char for char in word if char in vowels]\n",
    "print(result)\n",
    "\n",
    "#Output: ['o']"
   ]
  },
  {
   "cell_type": "markdown",
   "id": "8eda3c13-6cf4-4a9a-961a-942e43ad57cb",
   "metadata": {},
   "source": [
    "# Compound data type\n",
    "A compound data type is a type of data that is made up of multiple values or data types. The two most commonly used compound data types in Python are lists and tuples. Compound data types in Python are a powerful tool for organizing and storing data. Lists and tuples are used for storing collections of related items, dictionaries are used for storing key-value pairs, and sets are used for storing unique elements. Understanding and using these data types effectively can greatly improve the efficiency and organization of your Python code.\n",
    "\n",
    "\n",
    "## List\n",
    "A list is a collection of items that are enclosed in square brackets and separated by commas. Lists are mutable, which means that their elements can be modified after they are created. For example, you can add or remove items from a list, or change the value of an item that is already on the list. Lists are often used to store a collection of related items, such as a list of names or a list of numbers.\n",
    "-Check Example List\n",
    "\n",
    "## Tuple\n",
    "A tuple is similar to a list, but it is enclosed in parentheses and its elements cannot be modified after it is created. Tuples are often used to store a collection of items that should not be changed, such as a collection of constant values or a collection of items that are related to each other in some way.\n",
    "-Check Example Tuple\n",
    "\n",
    "## Dictionaries\n",
    "Dictionaries are another type of compound data type in Python that is similar to lists and tuples. A dictionary is a collection of key-value pairs, where each key is associated with a value. The keys and values are separated by a colon and enclosed in curly braces. Dictionaries are also mutable, which means that the keys and values can be modified after the dictionary is created.\n",
    "-Check Example Dictionaries\n",
    "\n",
    "## Sets\n",
    "Sets are also a compound data type in python, sets are a collection of unique elements, and sets are enclosed in curly braces {}. They are also mutable, which means that the elements can be added or removed after the set is created.\n",
    "-Check Example Sets)5]"
   ]
  },
  {
   "cell_type": "code",
   "execution_count": 11,
   "id": "4232fec3-22fc-4123-8565-09032ea1a95e",
   "metadata": {},
   "outputs": [
    {
     "name": "stdout",
     "output_type": "stream",
     "text": [
      "[1, 4, 9, 16, 25]\n",
      "('apple', 'banana', 'cherry')\n",
      "{'Name': 'Victor', 'Age': 17, 'Grade': 9}\n",
      "{1, 2, 3}\n"
     ]
    }
   ],
   "source": [
    "# Example List\n",
    "squares = [1, 4, 9, 16, 25]\n",
    "print(squares)\n",
    "#Output: [1, 4, 9, 16, 25]\n",
    "\n",
    "# Example Tuple\n",
    "thistuple = (\"apple\", \"banana\", \"cherry\")\n",
    "print(thistuple)\n",
    "#Output: ('apple', 'banana', 'cherry')\n",
    "\n",
    "# Example Dictionaries\n",
    "Student = {\n",
    "     \"Name\" : \"Victor\",\n",
    "     \"Age\" : 17,\n",
    "     \"Grade\" : 9\n",
    "}\n",
    "print(Student)\n",
    "#Output: {'Name': 'Victor', 'Age': 17, 'Grade': 9}\n",
    "\n",
    "# Example Sets\n",
    "A={1, 2, 3}\n",
    "print(A)\n",
    "#Output: {1, 2, 3}"
   ]
  },
  {
   "cell_type": "markdown",
   "id": "73e82498-db25-4e11-b143-39d715c24b1a",
   "metadata": {},
   "source": [
    "# A bigram\n",
    "A bigram or digram is a sequence of two adjacent elements from a string of tokens, which are typically letters, syllables, or words."
   ]
  },
  {
   "cell_type": "code",
   "execution_count": 9,
   "id": "e1eece43-2816-4432-a0ec-f47f0fa0a33b",
   "metadata": {},
   "outputs": [
    {
     "name": "stdin",
     "output_type": "stream",
     "text": [
      "Enter a string to generate bigrams:  Why are you doing this to me.\n"
     ]
    },
    {
     "name": "stdout",
     "output_type": "stream",
     "text": [
      "Bigrams: [('Why', 'are'), ('are', 'you'), ('you', 'doing'), ('doing', 'this'), ('this', 'to'), ('to', 'me.')]\n"
     ]
    }
   ],
   "source": [
    "def generate_bigrams(input_string):\n",
    "    # Split the input string into words\n",
    "    words = input_string.split()\n",
    "    \n",
    "    # Generate the bigrams\n",
    "    bigrams = [(words[i], words[i+1]) for i in range(len(words) - 1)]\n",
    "    \n",
    "    return bigrams\n",
    "\n",
    "# Take input from the user\n",
    "user_input = input(\"Enter a string to generate bigrams: \")\n",
    "\n",
    "# Generate and print the list of bigrams\n",
    "bigrams = generate_bigrams(user_input)\n",
    "print(\"Bigrams:\", bigrams)\n"
   ]
  },
  {
   "cell_type": "markdown",
   "id": "55e36ff9-bb97-45fb-abb8-17758a1b6f6b",
   "metadata": {},
   "source": [
    "# function closest_key"
   ]
  },
  {
   "cell_type": "code",
   "execution_count": 14,
   "id": "3a2a4be6-4470-4deb-84ac-49002519725c",
   "metadata": {},
   "outputs": [
    {
     "name": "stdin",
     "output_type": "stream",
     "text": [
      "Enter the number of keys in the dictionary:  4\n",
      "Enter key:  e\n",
      "Enter values for 'e' (comma-separated):  t,f,h,y\n",
      "Enter key:  r\n",
      "Enter values for 'r' (comma-separated):  h,d,k,t\n",
      "Enter key:  d\n",
      "Enter values for 'd' (comma-separated):  f,t,u\n",
      "Enter key:  q\n",
      "Enter values for 'q' (comma-separated):  g,u,t\n",
      "Enter the target value to search for:  t\n"
     ]
    },
    {
     "name": "stdout",
     "output_type": "stream",
     "text": [
      "The key with the input value 't' closest to the beginning of the list is: e\n"
     ]
    }
   ],
   "source": [
    "def closest_key(d, target_value):\n",
    "    closest_key = None\n",
    "    closest_index = float('inf')  # Initialize with infinity to find the smallest index\n",
    "\n",
    "    for key, value_list in d.items():\n",
    "        if target_value in value_list:\n",
    "            index = value_list.index(target_value)  # Get the index of the target value\n",
    "            if index < closest_index:\n",
    "                closest_index = index\n",
    "                closest_key = key\n",
    "\n",
    "    return closest_key\n",
    "\n",
    "# Function to take user input and build the dictionary\n",
    "def get_user_input():\n",
    "    d = {}\n",
    "    n = int(input(\"Enter the number of keys in the dictionary: \"))\n",
    "\n",
    "    for _ in range(n):\n",
    "        key = input(\"Enter key: \")\n",
    "        values = input(f\"Enter values for '{key}' (comma-separated): \").split(',')\n",
    "        d[key] = [value.strip() for value in values]\n",
    "\n",
    "    return d\n",
    "\n",
    "# Main code\n",
    "data = get_user_input()\n",
    "target = input(\"Enter the target value to search for: \")\n",
    "result = closest_key(data, target)\n",
    "\n",
    "if result:\n",
    "    print(f\"The key with the input value '{target}' closest to the beginning of the list is: {result}\")\n",
    "else:\n",
    "    print(f\"The target value '{target}' was not found in any list.\")\n"
   ]
  },
  {
   "cell_type": "code",
   "execution_count": null,
   "id": "80c5ecda-659d-45b7-9951-5bd103652aeb",
   "metadata": {},
   "outputs": [],
   "source": []
  }
 ],
 "metadata": {
  "kernelspec": {
   "display_name": "Python 3 (ipykernel)",
   "language": "python",
   "name": "python3"
  },
  "language_info": {
   "codemirror_mode": {
    "name": "ipython",
    "version": 3
   },
   "file_extension": ".py",
   "mimetype": "text/x-python",
   "name": "python",
   "nbconvert_exporter": "python",
   "pygments_lexer": "ipython3",
   "version": "3.12.4"
  }
 },
 "nbformat": 4,
 "nbformat_minor": 5
}
